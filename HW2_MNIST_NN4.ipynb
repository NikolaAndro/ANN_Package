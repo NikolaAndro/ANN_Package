{
 "cells": [
  {
   "cell_type": "markdown",
   "metadata": {},
   "source": [
    "### 1. Import Libraries"
   ]
  },
  {
   "cell_type": "code",
   "execution_count": null,
   "metadata": {},
   "outputs": [],
   "source": [
    "import os\n",
    "import sys\n",
    "import warnings\n",
    "\n",
    "import matplotlib as mpl\n",
    "import matplotlib.pyplot as plt\n",
    "import numpy as np\n",
    "import pandas as pd\n",
    "\n",
    "from sklearn.datasets import fetch_openml\n",
    "from sklearn.preprocessing import LabelEncoder\n",
    "from sklearn.model_selection import train_test_split\n",
    "\n",
    "%matplotlib inline\n",
    "mpl.rc('axes', labelsize=14)\n",
    "mpl.rc('xtick', labelsize=12)\n",
    "mpl.rc('ytick', labelsize=12)"
   ]
  },
  {
   "cell_type": "markdown",
   "metadata": {},
   "source": [
    "### 2. Import from mlcblab"
   ]
  },
  {
   "cell_type": "code",
   "execution_count": null,
   "metadata": {},
   "outputs": [],
   "source": [
    "from mlcvlab.models.nn4 import NN4\n",
    "from mlcvlab.nn.losses import l2\n",
    "from mlcvlab.optim.sgd import SGD\n",
    "from mlcvlab.optim.async_sgd import async_sgd\n",
    "from mlcvlab.optim.sync_sgd import sync_sgd"
   ]
  },
  {
   "cell_type": "markdown",
   "metadata": {},
   "source": [
    "### 3. Set Seed"
   ]
  },
  {
   "cell_type": "code",
   "execution_count": null,
   "metadata": {},
   "outputs": [],
   "source": [
    "np.random.seed(42)"
   ]
  },
  {
   "cell_type": "markdown",
   "metadata": {},
   "source": [
    "### 4. Helper functions"
   ]
  },
  {
   "cell_type": "code",
   "execution_count": null,
   "metadata": {},
   "outputs": [],
   "source": [
    "def load_dataset():\n",
    "    #TODO (Can use the same code from HW1)\n",
    "    return x,y\n",
    "\n",
    "def prepare_data(x, y):\n",
    "    #TODO (Can use the same code from HW1)\n",
    "    return x, y\n",
    "\n",
    "def split_train_test(x,y):\n",
    "    #TODO (Can use the same code from HW1)\n",
    "    return X_train, X_test, y_train, y_test\n",
    "\n",
    "def minibatch(X_train,y_train,K):\n",
    "    #TODO\n",
    "    # Batch Size: K\n",
    "    # X_train_batches, y_train_batches should be a list of lists of size K.\n",
    "    return X_train_batches, y_train_batches\n",
    "\n",
    "def initialize_model():\n",
    "    #TODO (Can use the similar approach used in HW1)\n",
    "    # e.g. He Initialization for W0-W2, Xavier Initialization for W3\n",
    "    # Also, initialize your model with a dropout parameter of 0.25 and use_batchnorm being true.\n",
    "    W0 = None\n",
    "    W1 = None\n",
    "    W2 = None\n",
    "    W3 = None\n",
    "    print(f\"Size of W0 : {W0.shape}, Size of W1 : {W1.shape}, Size of W2 : {W2.shape}, Size of W3 : {W3.shape}\")\n",
    "    four_layer_nn  = NN4()\n",
    "    four_layer_nn.layers[0].W = W0\n",
    "    four_layer_nn.layers[1].W = W1\n",
    "    four_layer_nn.layers[2].W = W2\n",
    "    four_layer_nn.layers[3].W = W3\n",
    "\n",
    "    return four_layer_nn\n",
    "\n",
    "def train_model(model, X_train_batches, y_train_batches):\n",
    "    #TODO : Call async_SGD and sync_SGD to train two versions of the same model. Compare their outcomes and runtime.\n",
    "    #Update both your models with final updated weights and return them\n",
    "    return model_async, model_sync\n",
    "\n",
    "def test_model(model, X_test, y_test):\n",
    "    accuracy = None\n",
    "    #TODO: Call model.nn4 to test model.\n",
    "    return accuracy"
   ]
  },
  {
   "cell_type": "markdown",
   "metadata": {},
   "source": [
    "### 5. Run the program"
   ]
  },
  {
   "cell_type": "code",
   "execution_count": null,
   "metadata": {},
   "outputs": [],
   "source": [
    "\n",
    "#load data\n",
    "x, y = load_dataset()\n",
    "\n",
    "#prepare data\n",
    "x, y = prepare_data(x,y)\n",
    "\n",
    "# split data set\n",
    "X_train, X_test, y_train, y_test = split_train_test(x,y)\n",
    "\n",
    "#initialize model\n",
    "model = initialize_model()\n",
    "\n",
    "X_train_batches, y_train_batches = minibatch(X_train,y_train,K)\n",
    "\n",
    "#training model\n",
    "model_async, model_sync = train_model(model, X_train_batches, y_train_batches)\n",
    "print(f\"Completed training, now testing...\")   \n",
    "\n",
    "#testing model\n",
    "accuracy_async = test_model(model_async, X_test, y_test)\n",
    "print(f\"Completed testing model using asynchronous SGD - Accuracy : {accuracy_async}\")   \n",
    "\n",
    "accuracy_sync = test_model(model_sync, X_test, y_test)\n",
    "print(f\"Completed testing model using synchronous SGD - Accuracy : {accuracy_sync}\") "
   ]
  },
  {
   "cell_type": "code",
   "execution_count": null,
   "metadata": {},
   "outputs": [],
   "source": []
  }
 ],
 "metadata": {
  "kernelspec": {
   "display_name": "Python 3",
   "language": "python",
   "name": "python3"
  },
  "language_info": {
   "codemirror_mode": {
    "name": "ipython",
    "version": 3
   },
   "file_extension": ".py",
   "mimetype": "text/x-python",
   "name": "python",
   "nbconvert_exporter": "python",
   "pygments_lexer": "ipython3",
   "version": "3.8.5"
  }
 },
 "nbformat": 4,
 "nbformat_minor": 5
}
