{
 "cells": [
  {
   "cell_type": "markdown",
   "id": "4ffd0b01",
   "metadata": {},
   "source": [
    "### 1. Import Libraries"
   ]
  },
  {
   "cell_type": "code",
   "execution_count": 1,
   "id": "d6aac4e6",
   "metadata": {},
   "outputs": [],
   "source": [
    "import os\n",
    "import sys\n",
    "import warnings\n",
    "\n",
    "import matplotlib as mpl\n",
    "import matplotlib.pyplot as plt\n",
    "import numpy as np\n",
    "import pandas as pd\n",
    "\n",
    "from sklearn.datasets import fetch_openml\n",
    "from sklearn.preprocessing import LabelEncoder\n",
    "from sklearn.model_selection import train_test_split\n",
    "\n",
    "%matplotlib inline\n",
    "mpl.rc('axes', labelsize=14)\n",
    "mpl.rc('xtick', labelsize=12)\n",
    "mpl.rc('ytick', labelsize=12)"
   ]
  },
  {
   "cell_type": "markdown",
   "id": "3ebda395",
   "metadata": {},
   "source": [
    "### 2. Import from mlcblab"
   ]
  },
  {
   "cell_type": "code",
   "execution_count": 2,
   "id": "2f32bdd8",
   "metadata": {},
   "outputs": [],
   "source": [
    "from mlcvlab.models.nn1 import NN1\n",
    "from mlcvlab.models.nn2 import NN2\n",
    "from mlcvlab.nn.losses import l2\n",
    "from mlcvlab.optim.sgd import SGD"
   ]
  },
  {
   "cell_type": "markdown",
   "id": "8cdd0230",
   "metadata": {},
   "source": [
    "### 3. Set Seed"
   ]
  },
  {
   "cell_type": "code",
   "execution_count": 3,
   "id": "0f80cef3",
   "metadata": {},
   "outputs": [],
   "source": [
    "np.random.seed(42)"
   ]
  },
  {
   "cell_type": "markdown",
   "id": "8608dc18",
   "metadata": {},
   "source": [
    "### 4.Example code to load data and view image"
   ]
  },
  {
   "cell_type": "code",
   "execution_count": 4,
   "id": "9ebaa036",
   "metadata": {},
   "outputs": [],
   "source": [
    "def display_digit(x, index):\n",
    "    some_digit = x[0]\n",
    "    some_digit_image = some_digit.reshape((28, 28))\n",
    "\n",
    "    plt.imshow(some_digit_image, cmap='binary')\n",
    "    plt.axis('off')\n",
    "    plt.show()"
   ]
  },
  {
   "cell_type": "code",
   "execution_count": 5,
   "id": "23dbe4d6",
   "metadata": {},
   "outputs": [],
   "source": [
    "x, y = fetch_openml(\"mnist_784\", version=1, return_X_y=True, as_frame=False)"
   ]
  },
  {
   "cell_type": "code",
   "execution_count": 6,
   "id": "bd8199fe",
   "metadata": {},
   "outputs": [
    {
     "data": {
      "image/png": "[encoded data removed]",
      "text/plain": [
       "<Figure size 432x288 with 1 Axes>"
      ]
     },
     "metadata": {
      "needs_background": "light"
     },
     "output_type": "display_data"
    }
   ],
   "source": [
    "display_digit(x, 0)"
   ]
  },
  {
   "cell_type": "markdown",
   "id": "a956df89",
   "metadata": {},
   "source": [
    "### 5. Helper functions"
   ]
  },
  {
   "cell_type": "code",
   "execution_count": null,
   "id": "b7367075",
   "metadata": {},
   "outputs": [],
   "source": [
    "def load_dataset():\n",
    "    #TODO\n",
    "    return x,y\n",
    "\n",
    "def prepare_data(x, y):\n",
    "    #TODO\n",
    "    return x, y\n",
    "\n",
    "def split_train_test(x,y):\n",
    "    #TODO\n",
    "    return X_train, X_test, y_train, y_test\n",
    "\n",
    "\n",
    "def initialize_model(X_train, X_test, y_train, y_test):\n",
    "    #TODO\n",
    "    W = None\n",
    "    print(f\"Size of W : {W.shape}\")\n",
    "    one_layer_nn  = NN1()\n",
    "    one_layer_nn.W = W\n",
    "    one_layer_nn.layers[0].W = W\n",
    "\n",
    "    return one_layer_nn\n",
    "\n",
    "def train_model(model, X_train, y_train):\n",
    "    final_W  = None\n",
    "\n",
    "    #TODO : Call SGD or Adam optimizer to train model.\n",
    "    #SGD(model, X_train, y_train, lr=0.1)\n",
    "    return final_W\n",
    "\n",
    "def test_model(model, X_test, y_test, final_W):\n",
    "    accuracy = None\n",
    "    model.W = final_W\n",
    "    \n",
    "    #TODO: Call model.nn1 to test model.\n",
    "    return accuracy"
   ]
  },
  {
   "cell_type": "markdown",
   "id": "ca49c082",
   "metadata": {},
   "source": [
    "### 6. Run the program"
   ]
  },
  {
   "cell_type": "code",
   "execution_count": null,
   "id": "6270e2bc",
   "metadata": {},
   "outputs": [],
   "source": [
    "\n",
    "#load data\n",
    "x, y = load_dataset()\n",
    "\n",
    "#prepare data\n",
    "x, y = prepare_data(x,y)\n",
    "\n",
    "# split data set\n",
    "X_train, X_test, y_train, y_test = split_train_test(x,y)\n",
    "\n",
    "#initialize model\n",
    "model = initialize_model(X_train, X_test, y_train, y_test)\n",
    "\n",
    "#training model\n",
    "final_W = train_model(model, X_train, y_train)\n",
    "print(f\"Completed training model - final W : {final_W}\")\n",
    "\n",
    "\n",
    "#testing model\n",
    "accuracy = test_model(model, X_test, y_test, final_W)\n",
    "print(f\"Completed testing model - Accuracy : {accuracy}\")    "
   ]
  },
  {
   "cell_type": "code",
   "execution_count": null,
   "id": "839c60bc",
   "metadata": {},
   "outputs": [],
   "source": []
  }
 ],
 "metadata": {
  "kernelspec": {
   "display_name": "Python 3",
   "language": "python",
   "name": "python3"
  },
  "language_info": {
   "codemirror_mode": {
    "name": "ipython",
    "version": 3
   },
   "file_extension": ".py",
   "mimetype": "text/x-python",
   "name": "python",
   "nbconvert_exporter": "python",
   "pygments_lexer": "ipython3",
   "version": "3.8.8"
  }
 },
 "nbformat": 4,
 "nbformat_minor": 5
}
